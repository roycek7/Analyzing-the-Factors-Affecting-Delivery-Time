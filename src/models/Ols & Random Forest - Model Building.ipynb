{
 "cells": [
  {
   "cell_type": "markdown",
   "metadata": {
    "toc": true
   },
   "source": [
    "<h1>Table of Contents<span class=\"tocSkip\"></span></h1>\n",
    "<div class=\"toc\"><ul class=\"toc-item\"><li><ul class=\"toc-item\"><li><span><a href=\"#Data-Preprocessing\" data-toc-modified-id=\"Data-Preprocessing-0.1\"><span class=\"toc-item-num\">0.1&nbsp;&nbsp;</span>Data Preprocessing</a></span></li><li><span><a href=\"#Model-building\" data-toc-modified-id=\"Model-building-0.2\"><span class=\"toc-item-num\">0.2&nbsp;&nbsp;</span>Model building</a></span><ul class=\"toc-item\"><li><span><a href=\"#Model-with-estimate-lag-time\" data-toc-modified-id=\"Model-with-estimate-lag-time-0.2.1\"><span class=\"toc-item-num\">0.2.1&nbsp;&nbsp;</span>Model with estimate lag time</a></span></li><li><span><a href=\"#Model-with-exact-lag-time\" data-toc-modified-id=\"Model-with-exact-lag-time-0.2.2\"><span class=\"toc-item-num\">0.2.2&nbsp;&nbsp;</span>Model with exact lag time</a></span></li><li><span><a href=\"#Kolmogorov-Smirnov-test-for-Normality-Assumption-on-Residuals\" data-toc-modified-id=\"Kolmogorov-Smirnov-test-for-Normality-Assumption-on-Residuals-0.2.3\"><span class=\"toc-item-num\">0.2.3&nbsp;&nbsp;</span>Kolmogorov Smirnov test for Normality Assumption on Residuals</a></span></li></ul></li></ul></li><li><span><a href=\"#Random-Forest\" data-toc-modified-id=\"Random-Forest-1\"><span class=\"toc-item-num\">1&nbsp;&nbsp;</span>Random Forest</a></span><ul class=\"toc-item\"><li><span><a href=\"#Correlation-Matrix\" data-toc-modified-id=\"Correlation-Matrix-1.1\"><span class=\"toc-item-num\">1.1&nbsp;&nbsp;</span>Correlation Matrix</a></span></li><li><span><a href=\"#Creating-Datasets\" data-toc-modified-id=\"Creating-Datasets-1.2\"><span class=\"toc-item-num\">1.2&nbsp;&nbsp;</span>Creating Datasets</a></span></li></ul></li></ul></div>"
   ]
  },
  {
   "cell_type": "code",
   "execution_count": 1,
   "metadata": {},
   "outputs": [
    {
     "name": "stderr",
     "output_type": "stream",
     "text": [
      "\n",
      "Bad key \"text.kerning_factor\" on line 4 in\n",
      "/Users/dylanho/opt/anaconda3/lib/python3.7/site-packages/matplotlib/mpl-data/stylelib/_classic_test_patch.mplstyle.\n",
      "You probably need to get an updated matplotlibrc file from\n",
      "https://github.com/matplotlib/matplotlib/blob/v3.1.2/matplotlibrc.template\n",
      "or from the matplotlib source distribution\n"
     ]
    }
   ],
   "source": [
    "import numpy as np\n",
    "import pandas as pd\n",
    "import matplotlib.pyplot as plt\n",
    "import seaborn as sns\n",
    "from sklearn import linear_model\n",
    "import statsmodels.api as sm\n",
    "import statsmodels.formula.api as smf\n",
    "from statsmodels.tools.eval_measures import rmse\n",
    "import scipy\n",
    "sns.set()"
   ]
  },
  {
   "cell_type": "code",
   "execution_count": 2,
   "metadata": {
    "scrolled": true
   },
   "outputs": [],
   "source": [
    "df = pd.read_csv('../../data/processed/20th_May_olist.csv' , dtype={'seller_zip_code_prefix': str, 'customer_zip_code_prefix': str})"
   ]
  },
  {
   "cell_type": "markdown",
   "metadata": {},
   "source": [
    "## Data Preprocessing"
   ]
  },
  {
   "cell_type": "code",
   "execution_count": 3,
   "metadata": {},
   "outputs": [],
   "source": [
    "def calculate_time_difference_in_hour(data, col1, col2, target_col):\n",
    "    data[target_col] = ((pd.to_datetime(data[col1]) - \n",
    "                            pd.to_datetime(data[col2]))\n",
    "                                .dt.total_seconds() / (60 * 60))"
   ]
  },
  {
   "cell_type": "code",
   "execution_count": 4,
   "metadata": {
    "scrolled": true
   },
   "outputs": [],
   "source": [
    "df.seasons = df.seasons.astype('category')\n",
    "df.seasons = df.seasons.cat.codes"
   ]
  },
  {
   "cell_type": "code",
   "execution_count": 5,
   "metadata": {
    "scrolled": true
   },
   "outputs": [],
   "source": [
    "calculate_time_difference_in_hour(df, 'order_delivered_carrier_date', 'order_purchase_timestamp', 'actual_lag_time')\n",
    "calculate_time_difference_in_hour(df, 'shipping_limit_date', 'order_purchase_timestamp', 'estimate_lag_time')"
   ]
  },
  {
   "cell_type": "code",
   "execution_count": 6,
   "metadata": {},
   "outputs": [],
   "source": [
    "df['total_delivery_time_log'] = np.log(df['total_delivery_time'])"
   ]
  },
  {
   "cell_type": "markdown",
   "metadata": {},
   "source": [
    "## Model building"
   ]
  },
  {
   "cell_type": "markdown",
   "metadata": {},
   "source": [
    "### Model with estimate lag time"
   ]
  },
  {
   "cell_type": "code",
   "execution_count": 7,
   "metadata": {},
   "outputs": [],
   "source": [
    "# Shuffle indicies of the dataset\n",
    "np.random.seed(123)  \n",
    "np.random.shuffle(df.index.values)"
   ]
  },
  {
   "cell_type": "code",
   "execution_count": 8,
   "metadata": {},
   "outputs": [],
   "source": [
    "training_size = int(df.shape[0]*0.7)\n",
    "training_idx = df.index.values[0:training_size]\n",
    "df_training = df[df.index.isin(training_idx)]\n",
    "df_testing = df[df.index.isin(training_idx)]"
   ]
  },
  {
   "cell_type": "code",
   "execution_count": 9,
   "metadata": {},
   "outputs": [],
   "source": [
    "df_testing_Y = df_testing.total_delivery_time_log\n",
    "df_testing_X = df_testing.drop(['order_id', 'total_delivery_time_log'], axis=1)"
   ]
  },
  {
   "cell_type": "code",
   "execution_count": 10,
   "metadata": {
    "scrolled": false
   },
   "outputs": [
    {
     "data": {
      "text/html": [
       "<table class=\"simpletable\">\n",
       "<caption>OLS Regression Results</caption>\n",
       "<tr>\n",
       "  <th>Dep. Variable:</th>    <td>total_delivery_time_log</td> <th>  R-squared:         </th> <td>   0.675</td>\n",
       "</tr>\n",
       "<tr>\n",
       "  <th>Model:</th>                      <td>OLS</td>           <th>  Adj. R-squared:    </th> <td>   0.674</td>\n",
       "</tr>\n",
       "<tr>\n",
       "  <th>Method:</th>                <td>Least Squares</td>      <th>  F-statistic:       </th> <td>   3774.</td>\n",
       "</tr>\n",
       "<tr>\n",
       "  <th>Date:</th>                <td>Fri, 12 Jun 2020</td>     <th>  Prob (F-statistic):</th>  <td>  0.00</td> \n",
       "</tr>\n",
       "<tr>\n",
       "  <th>Time:</th>                    <td>10:15:33</td>         <th>  Log-Likelihood:    </th> <td> -3356.8</td>\n",
       "</tr>\n",
       "<tr>\n",
       "  <th>No. Observations:</th>         <td>  7286</td>          <th>  AIC:               </th> <td>   6724.</td>\n",
       "</tr>\n",
       "<tr>\n",
       "  <th>Df Residuals:</th>             <td>  7281</td>          <th>  BIC:               </th> <td>   6758.</td>\n",
       "</tr>\n",
       "<tr>\n",
       "  <th>Df Model:</th>                 <td>     4</td>          <th>                     </th>     <td> </td>   \n",
       "</tr>\n",
       "<tr>\n",
       "  <th>Covariance Type:</th>         <td>nonrobust</td>        <th>                     </th>     <td> </td>   \n",
       "</tr>\n",
       "</table>\n",
       "<table class=\"simpletable\">\n",
       "<tr>\n",
       "              <td></td>                 <th>coef</th>     <th>std err</th>      <th>t</th>      <th>P>|t|</th>  <th>[0.025</th>    <th>0.975]</th>  \n",
       "</tr>\n",
       "<tr>\n",
       "  <th>Intercept</th>                 <td>    6.6434</td> <td>    0.014</td> <td>  491.637</td> <td> 0.000</td> <td>    6.617</td> <td>    6.670</td>\n",
       "</tr>\n",
       "<tr>\n",
       "  <th>connection_between_cities</th> <td>   -0.0003</td> <td> 2.65e-06</td> <td> -115.241</td> <td> 0.000</td> <td>   -0.000</td> <td>   -0.000</td>\n",
       "</tr>\n",
       "<tr>\n",
       "  <th>estimate_lag_time</th>         <td> 6.967e-06</td> <td> 2.15e-06</td> <td>    3.245</td> <td> 0.001</td> <td> 2.76e-06</td> <td> 1.12e-05</td>\n",
       "</tr>\n",
       "<tr>\n",
       "  <th>seasons</th>                   <td>   -0.1011</td> <td>    0.009</td> <td>  -10.819</td> <td> 0.000</td> <td>   -0.119</td> <td>   -0.083</td>\n",
       "</tr>\n",
       "<tr>\n",
       "  <th>rdpc</th>                      <td>   -0.0001</td> <td> 9.99e-06</td> <td>  -10.178</td> <td> 0.000</td> <td>   -0.000</td> <td>-8.21e-05</td>\n",
       "</tr>\n",
       "</table>\n",
       "<table class=\"simpletable\">\n",
       "<tr>\n",
       "  <th>Omnibus:</th>       <td>745.266</td> <th>  Durbin-Watson:     </th> <td>   2.043</td>\n",
       "</tr>\n",
       "<tr>\n",
       "  <th>Prob(Omnibus):</th> <td> 0.000</td>  <th>  Jarque-Bera (JB):  </th> <td>2962.949</td>\n",
       "</tr>\n",
       "<tr>\n",
       "  <th>Skew:</th>          <td>-0.455</td>  <th>  Prob(JB):          </th> <td>    0.00</td>\n",
       "</tr>\n",
       "<tr>\n",
       "  <th>Kurtosis:</th>      <td> 5.989</td>  <th>  Cond. No.          </th> <td>1.22e+04</td>\n",
       "</tr>\n",
       "</table><br/><br/>Warnings:<br/>[1] Standard Errors assume that the covariance matrix of the errors is correctly specified.<br/>[2] The condition number is large, 1.22e+04. This might indicate that there are<br/>strong multicollinearity or other numerical problems."
      ],
      "text/plain": [
       "<class 'statsmodels.iolib.summary.Summary'>\n",
       "\"\"\"\n",
       "                               OLS Regression Results                              \n",
       "===================================================================================\n",
       "Dep. Variable:     total_delivery_time_log   R-squared:                       0.675\n",
       "Model:                                 OLS   Adj. R-squared:                  0.674\n",
       "Method:                      Least Squares   F-statistic:                     3774.\n",
       "Date:                     Fri, 12 Jun 2020   Prob (F-statistic):               0.00\n",
       "Time:                             10:15:33   Log-Likelihood:                -3356.8\n",
       "No. Observations:                     7286   AIC:                             6724.\n",
       "Df Residuals:                         7281   BIC:                             6758.\n",
       "Df Model:                                4                                         \n",
       "Covariance Type:                 nonrobust                                         \n",
       "=============================================================================================\n",
       "                                coef    std err          t      P>|t|      [0.025      0.975]\n",
       "---------------------------------------------------------------------------------------------\n",
       "Intercept                     6.6434      0.014    491.637      0.000       6.617       6.670\n",
       "connection_between_cities    -0.0003   2.65e-06   -115.241      0.000      -0.000      -0.000\n",
       "estimate_lag_time          6.967e-06   2.15e-06      3.245      0.001    2.76e-06    1.12e-05\n",
       "seasons                      -0.1011      0.009    -10.819      0.000      -0.119      -0.083\n",
       "rdpc                         -0.0001   9.99e-06    -10.178      0.000      -0.000   -8.21e-05\n",
       "==============================================================================\n",
       "Omnibus:                      745.266   Durbin-Watson:                   2.043\n",
       "Prob(Omnibus):                  0.000   Jarque-Bera (JB):             2962.949\n",
       "Skew:                          -0.455   Prob(JB):                         0.00\n",
       "Kurtosis:                       5.989   Cond. No.                     1.22e+04\n",
       "==============================================================================\n",
       "\n",
       "Warnings:\n",
       "[1] Standard Errors assume that the covariance matrix of the errors is correctly specified.\n",
       "[2] The condition number is large, 1.22e+04. This might indicate that there are\n",
       "strong multicollinearity or other numerical problems.\n",
       "\"\"\""
      ]
     },
     "execution_count": 10,
     "metadata": {},
     "output_type": "execute_result"
    }
   ],
   "source": [
    "model2 = smf.ols(formula='total_delivery_time_log ~ \\\n",
    "                                        connection_between_cities + \\\n",
    "                                        estimate_lag_time + \\\n",
    "                                        seasons + \\\n",
    "                                        rdpc', data=df_training).fit()\n",
    "summary = model2.summary()\n",
    "summary"
   ]
  },
  {
   "cell_type": "code",
   "execution_count": 11,
   "metadata": {
    "scrolled": false
   },
   "outputs": [
    {
     "name": "stdout",
     "output_type": "stream",
     "text": [
      "R-squared for testing data =  0.6746124004334477\n",
      "Mean Absolute Error for testing data =  0.2584393621858022\n"
     ]
    }
   ],
   "source": [
    "testing_pred2 = model2.predict(df_testing_X)\n",
    "r22 = 1 - (np.sum((df_testing_Y - testing_pred2) ** 2) / np.sum((df_testing_Y - np.mean(df_testing_Y)) ** 2))\n",
    "mae_2 = np.sum(abs(df_testing_Y - testing_pred2)) / len(df_testing_Y)\n",
    "print('R-squared for testing data = ', r22)\n",
    "print('Mean Absolute Error for testing data = ', mae_2)"
   ]
  },
  {
   "cell_type": "markdown",
   "metadata": {},
   "source": [
    "### Model with exact lag time"
   ]
  },
  {
   "cell_type": "code",
   "execution_count": 12,
   "metadata": {
    "scrolled": false
   },
   "outputs": [
    {
     "data": {
      "text/html": [
       "<table class=\"simpletable\">\n",
       "<caption>OLS Regression Results</caption>\n",
       "<tr>\n",
       "  <th>Dep. Variable:</th>    <td>total_delivery_time_log</td> <th>  R-squared:         </th> <td>   0.711</td>\n",
       "</tr>\n",
       "<tr>\n",
       "  <th>Model:</th>                      <td>OLS</td>           <th>  Adj. R-squared:    </th> <td>   0.711</td>\n",
       "</tr>\n",
       "<tr>\n",
       "  <th>Method:</th>                <td>Least Squares</td>      <th>  F-statistic:       </th> <td>   4476.</td>\n",
       "</tr>\n",
       "<tr>\n",
       "  <th>Date:</th>                <td>Fri, 12 Jun 2020</td>     <th>  Prob (F-statistic):</th>  <td>  0.00</td> \n",
       "</tr>\n",
       "<tr>\n",
       "  <th>Time:</th>                    <td>10:15:33</td>         <th>  Log-Likelihood:    </th> <td> -2926.1</td>\n",
       "</tr>\n",
       "<tr>\n",
       "  <th>No. Observations:</th>         <td>  7286</td>          <th>  AIC:               </th> <td>   5862.</td>\n",
       "</tr>\n",
       "<tr>\n",
       "  <th>Df Residuals:</th>             <td>  7281</td>          <th>  BIC:               </th> <td>   5897.</td>\n",
       "</tr>\n",
       "<tr>\n",
       "  <th>Df Model:</th>                 <td>     4</td>          <th>                     </th>     <td> </td>   \n",
       "</tr>\n",
       "<tr>\n",
       "  <th>Covariance Type:</th>         <td>nonrobust</td>        <th>                     </th>     <td> </td>   \n",
       "</tr>\n",
       "</table>\n",
       "<table class=\"simpletable\">\n",
       "<tr>\n",
       "              <td></td>                 <th>coef</th>     <th>std err</th>      <th>t</th>      <th>P>|t|</th>  <th>[0.025</th>    <th>0.975]</th>  \n",
       "</tr>\n",
       "<tr>\n",
       "  <th>Intercept</th>                 <td>    6.4542</td> <td>    0.014</td> <td>  454.825</td> <td> 0.000</td> <td>    6.426</td> <td>    6.482</td>\n",
       "</tr>\n",
       "<tr>\n",
       "  <th>connection_between_cities</th> <td>   -0.0003</td> <td>  2.6e-06</td> <td> -109.306</td> <td> 0.000</td> <td>   -0.000</td> <td>   -0.000</td>\n",
       "</tr>\n",
       "<tr>\n",
       "  <th>actual_lag_time</th>           <td>    0.0015</td> <td> 5.02e-05</td> <td>   30.426</td> <td> 0.000</td> <td>    0.001</td> <td>    0.002</td>\n",
       "</tr>\n",
       "<tr>\n",
       "  <th>seasons</th>                   <td>   -0.0822</td> <td>    0.009</td> <td>   -9.339</td> <td> 0.000</td> <td>   -0.099</td> <td>   -0.065</td>\n",
       "</tr>\n",
       "<tr>\n",
       "  <th>rdpc</th>                      <td>   -0.0001</td> <td> 9.42e-06</td> <td>  -11.904</td> <td> 0.000</td> <td>   -0.000</td> <td>-9.37e-05</td>\n",
       "</tr>\n",
       "</table>\n",
       "<table class=\"simpletable\">\n",
       "<tr>\n",
       "  <th>Omnibus:</th>       <td>778.557</td> <th>  Durbin-Watson:     </th> <td>   2.040</td>\n",
       "</tr>\n",
       "<tr>\n",
       "  <th>Prob(Omnibus):</th> <td> 0.000</td>  <th>  Jarque-Bera (JB):  </th> <td>2536.360</td>\n",
       "</tr>\n",
       "<tr>\n",
       "  <th>Skew:</th>          <td>-0.542</td>  <th>  Prob(JB):          </th> <td>    0.00</td>\n",
       "</tr>\n",
       "<tr>\n",
       "  <th>Kurtosis:</th>      <td> 5.679</td>  <th>  Cond. No.          </th> <td>1.33e+04</td>\n",
       "</tr>\n",
       "</table><br/><br/>Warnings:<br/>[1] Standard Errors assume that the covariance matrix of the errors is correctly specified.<br/>[2] The condition number is large, 1.33e+04. This might indicate that there are<br/>strong multicollinearity or other numerical problems."
      ],
      "text/plain": [
       "<class 'statsmodels.iolib.summary.Summary'>\n",
       "\"\"\"\n",
       "                               OLS Regression Results                              \n",
       "===================================================================================\n",
       "Dep. Variable:     total_delivery_time_log   R-squared:                       0.711\n",
       "Model:                                 OLS   Adj. R-squared:                  0.711\n",
       "Method:                      Least Squares   F-statistic:                     4476.\n",
       "Date:                     Fri, 12 Jun 2020   Prob (F-statistic):               0.00\n",
       "Time:                             10:15:33   Log-Likelihood:                -2926.1\n",
       "No. Observations:                     7286   AIC:                             5862.\n",
       "Df Residuals:                         7281   BIC:                             5897.\n",
       "Df Model:                                4                                         \n",
       "Covariance Type:                 nonrobust                                         \n",
       "=============================================================================================\n",
       "                                coef    std err          t      P>|t|      [0.025      0.975]\n",
       "---------------------------------------------------------------------------------------------\n",
       "Intercept                     6.4542      0.014    454.825      0.000       6.426       6.482\n",
       "connection_between_cities    -0.0003    2.6e-06   -109.306      0.000      -0.000      -0.000\n",
       "actual_lag_time               0.0015   5.02e-05     30.426      0.000       0.001       0.002\n",
       "seasons                      -0.0822      0.009     -9.339      0.000      -0.099      -0.065\n",
       "rdpc                         -0.0001   9.42e-06    -11.904      0.000      -0.000   -9.37e-05\n",
       "==============================================================================\n",
       "Omnibus:                      778.557   Durbin-Watson:                   2.040\n",
       "Prob(Omnibus):                  0.000   Jarque-Bera (JB):             2536.360\n",
       "Skew:                          -0.542   Prob(JB):                         0.00\n",
       "Kurtosis:                       5.679   Cond. No.                     1.33e+04\n",
       "==============================================================================\n",
       "\n",
       "Warnings:\n",
       "[1] Standard Errors assume that the covariance matrix of the errors is correctly specified.\n",
       "[2] The condition number is large, 1.33e+04. This might indicate that there are\n",
       "strong multicollinearity or other numerical problems.\n",
       "\"\"\""
      ]
     },
     "execution_count": 12,
     "metadata": {},
     "output_type": "execute_result"
    }
   ],
   "source": [
    "model = smf.ols(formula='total_delivery_time_log ~ \\\n",
    "                                        connection_between_cities + \\\n",
    "                                        actual_lag_time + \\\n",
    "                                        seasons + \\\n",
    "                                        rdpc', data=df_training).fit()\n",
    "summary = model.summary()\n",
    "summary"
   ]
  },
  {
   "cell_type": "code",
   "execution_count": 13,
   "metadata": {
    "scrolled": false
   },
   "outputs": [
    {
     "name": "stdout",
     "output_type": "stream",
     "text": [
      "R-squared for testing data = 0.7108986668470754\n",
      "Mean Absolute Error for testing data = 0.2547897405117528\n",
      "Mean Absolute Error for the difference between predicted delivery time vs actual delivery time:\n",
      " 73.54527412039761\n"
     ]
    }
   ],
   "source": [
    "testing_pred = model.predict(df_testing_X)\n",
    "r2 = 1 - (np.sum((df_testing_Y - testing_pred) ** 2) / np.sum((df_testing_Y - np.mean(df_testing_Y)) ** 2))\n",
    "mae = np.sum(abs(df_testing_Y - testing_pred)) / len(df_testing_Y)\n",
    "mae_exp = np.sum(abs(np.exp(df_testing_Y) - np.exp(testing_pred)) / len(df_testing_Y))\n",
    "print('R-squared for testing data =', r2)\n",
    "print('Mean Absolute Error for testing data =', mae)\n",
    "print('Mean Absolute Error for the difference between predicted delivery time vs actual delivery time:\\n', mae_exp)"
   ]
  },
  {
   "cell_type": "code",
   "execution_count": 14,
   "metadata": {},
   "outputs": [
    {
     "data": {
      "image/png": "[encoded data removed]",
      "text/plain": [
       "<Figure size 1440x432 with 2 Axes>"
      ]
     },
     "metadata": {},
     "output_type": "display_data"
    }
   ],
   "source": [
    "sns.set(rc={'figure.figsize':(10*2, 6)})\n",
    "_ = plt.figure()\n",
    "\n",
    "plt.subplot(1, 2, 1)\n",
    "\n",
    "testing_resid = df_testing_Y - model.predict(df_testing_X)\n",
    "_ = plt.scatter(x=range(0, len(testing_resid)), y=testing_resid)\n",
    "#_ = plt.ylim(-1000, 1000)\n",
    "\n",
    "plt.subplot(1, 2, 2)\n",
    "\n",
    "_ = sns.distplot(testing_resid)"
   ]
  },
  {
   "cell_type": "markdown",
   "metadata": {},
   "source": [
    "### Kolmogorov Smirnov test for Normality Assumption on Residuals"
   ]
  },
  {
   "cell_type": "code",
   "execution_count": 15,
   "metadata": {
    "scrolled": true
   },
   "outputs": [
    {
     "name": "stdout",
     "output_type": "stream",
     "text": [
      "95% of residual values are from -0.8733743296080991 to -0.4733297621976975\n",
      "which is approximately 6 units of sigma away from mu = 0\n"
     ]
    }
   ],
   "source": [
    "print('95% of residual values are from {} to {}\\nwhich is approximately 6 units of sigma away from mu = 0'.format(model.resid.quantile(0.025), model.resid.quantile(0.0975)))"
   ]
  },
  {
   "cell_type": "code",
   "execution_count": 16,
   "metadata": {},
   "outputs": [],
   "source": [
    "data = model.resid.sort_values()\n",
    "n_sigmas = 100\n",
    "proposed_sigma = np.linspace(float(abs(model.resid.quantile(0.025)) + abs(model.resid.quantile(0.0975)))/6, np.std(data), n_sigmas)\n",
    "proposed_mu = 0\n",
    "p_vals = np.zeros(n_sigmas)\n",
    "\n",
    "for s in range(1, n_sigmas):\n",
    "    empirical_cdf_data = np.linspace(1, len(data), len(data))\n",
    "\n",
    "    empirical_cdf_data_b4_jump = empirical_cdf_data - 1\n",
    "\n",
    "    empirical_cdf_data = empirical_cdf_data / len(data)\n",
    "\n",
    "    empirical_cdf_data_b4_jump = empirical_cdf_data_b4_jump / len(data)\n",
    "\n",
    "    theoratical_cdf_data = scipy.stats.norm.cdf(data, loc=proposed_mu, scale=proposed_sigma[s])\n",
    "\n",
    "    # Supremum of the difference between theoratical cdf vs empirical cdf of data\n",
    "    dN = max(max(abs(theoratical_cdf_data - empirical_cdf_data_b4_jump)), max(abs(empirical_cdf_data - theoratical_cdf_data)))\n",
    "\n",
    "    # Generate K-S statistics for DN\n",
    "    N = 1000\n",
    "    n = 100\n",
    "    DNS = np.zeros(N)\n",
    "    for i in range(1, N):\n",
    "        uniform_data = np.sort(np.random.rand(n))\n",
    "        empirical_cdf_uniform = np.linspace(1, n, n)\n",
    "        empirical_cdf_uniform_b4_jump = empirical_cdf_uniform - 1\n",
    "        empirical_cdf_uniform = empirical_cdf_uniform / n\n",
    "        empirical_cdf_uniform_b4_jump = empirical_cdf_uniform_b4_jump / n\n",
    "        theoratical_cdf_uniform = scipy.stats.uniform.cdf(uniform_data)\n",
    "        DNS[i] = max(max(abs(theoratical_cdf_uniform - empirical_cdf_uniform_b4_jump)), max(abs(empirical_cdf_uniform - theoratical_cdf_uniform)))\n",
    "\n",
    "    DNS = np.sort(DNS)\n",
    "    p_vals[s] = np.mean(DNS >= dN)\n",
    "\n",
    "#print('p-value for K-S test is: ', np.mean(DNS >= DN) & (DN <= DNS)) / N)"
   ]
  },
  {
   "cell_type": "code",
   "execution_count": 17,
   "metadata": {
    "scrolled": false
   },
   "outputs": [
    {
     "name": "stdout",
     "output_type": "stream",
     "text": [
      "Proposal sigma with p-value greater than 0.9 is \n",
      "from nan \n",
      "to nan\n"
     ]
    },
    {
     "data": {
      "text/html": [
       "<div>\n",
       "<style scoped>\n",
       "    .dataframe tbody tr th:only-of-type {\n",
       "        vertical-align: middle;\n",
       "    }\n",
       "\n",
       "    .dataframe tbody tr th {\n",
       "        vertical-align: top;\n",
       "    }\n",
       "\n",
       "    .dataframe thead th {\n",
       "        text-align: right;\n",
       "    }\n",
       "</style>\n",
       "<table border=\"1\" class=\"dataframe\">\n",
       "  <thead>\n",
       "    <tr style=\"text-align: right;\">\n",
       "      <th></th>\n",
       "      <th>proposed_sigma</th>\n",
       "      <th>p_value</th>\n",
       "    </tr>\n",
       "  </thead>\n",
       "  <tbody>\n",
       "  </tbody>\n",
       "</table>\n",
       "</div>"
      ],
      "text/plain": [
       "Empty DataFrame\n",
       "Columns: [proposed_sigma, p_value]\n",
       "Index: []"
      ]
     },
     "execution_count": 17,
     "metadata": {},
     "output_type": "execute_result"
    }
   ],
   "source": [
    "test_result = pd.DataFrame({'proposed_sigma': proposed_sigma, 'p_value': p_vals}, columns=['proposed_sigma', 'p_value'])\n",
    "test_result = test_result[test_result.p_value > 0.9]\n",
    "print('Proposal sigma with p-value greater than 0.9 is \\nfrom', test_result.proposed_sigma.min(), '\\nto', test_result.proposed_sigma.max())\n",
    "test_result.head(10)"
   ]
  },
  {
   "cell_type": "markdown",
   "metadata": {},
   "source": [
    "After several trials with different proposal $\\sigma$ values. The p-value for $\\sigma$ is extremely high (more than 90%) with $ 0.3 < \\sigma < 0.4 $, which is significantly to show that the residuals actually come from $\\mathcal{N}(0, \\sigma)$ where $\\sigma$ is very likely from 0.3 to 0.4 "
   ]
  },
  {
   "cell_type": "markdown",
   "metadata": {},
   "source": [
    "# Random Forest"
   ]
  },
  {
   "cell_type": "code",
   "execution_count": 31,
   "metadata": {},
   "outputs": [
    {
     "name": "stderr",
     "output_type": "stream",
     "text": [
      "/Users/dylanho/opt/anaconda3/lib/python3.7/site-packages/ipykernel_launcher.py:50: SettingWithCopyWarning: \n",
      "A value is trying to be set on a copy of a slice from a DataFrame.\n",
      "Try using .loc[row_indexer,col_indexer] = value instead\n",
      "\n",
      "See the caveats in the documentation: http://pandas.pydata.org/pandas-docs/stable/user_guide/indexing.html#returning-a-view-versus-a-copy\n",
      "/Users/dylanho/opt/anaconda3/lib/python3.7/site-packages/pandas/core/generic.py:5208: SettingWithCopyWarning: \n",
      "A value is trying to be set on a copy of a slice from a DataFrame.\n",
      "Try using .loc[row_indexer,col_indexer] = value instead\n",
      "\n",
      "See the caveats in the documentation: http://pandas.pydata.org/pandas-docs/stable/user_guide/indexing.html#returning-a-view-versus-a-copy\n",
      "  self[name] = value\n",
      "/Users/dylanho/opt/anaconda3/lib/python3.7/site-packages/ipykernel_launcher.py:53: SettingWithCopyWarning: \n",
      "A value is trying to be set on a copy of a slice from a DataFrame\n",
      "\n",
      "See the caveats in the documentation: http://pandas.pydata.org/pandas-docs/stable/user_guide/indexing.html#returning-a-view-versus-a-copy\n"
     ]
    }
   ],
   "source": [
    "import pandas as pd\n",
    "from sklearn.model_selection import train_test_split\n",
    "from sklearn.ensemble import RandomForestRegressor\n",
    "import seaborn as sns\n",
    "import matplotlib.pyplot as plt\n",
    "from sklearn.metrics import r2_score\n",
    "import numpy as np\n",
    "from sklearn.model_selection import GridSearchCV\n",
    "\n",
    "def time_format(data):\n",
    "    '''\n",
    "    Function to convert dataset time columns into pandas datetime and calculations for promise date,\n",
    "    approval time and total time to deliver\n",
    "    '''\n",
    "    data.order_delivered_customer_date=pd.to_datetime(data.order_delivered_customer_date, errors='coerce',format='%Y-%m-%d %H:%M')\n",
    "    data.order_purchase_timestamp = pd.to_datetime(data.order_purchase_timestamp,errors='coerce',format='%Y-%m-%d %H:%M')\n",
    "    data.order_approved_at = pd.to_datetime(data.order_approved_at, errors='coerce',format='%Y-%m-%d %H:%M')\n",
    "    data.order_estimated_delivery_date = pd.to_datetime(data.order_estimated_delivery_date, errors='coerce',format='%Y-%m-%d')\n",
    "    data.order_delivered_customer_date = pd.to_datetime(data.order_delivered_customer_date, errors='coerce',format='%Y-%m-%d %H:%M')\n",
    "    df.order_delivered_carrier_date = pd.to_datetime(data.order_delivered_carrier_date, errors='coerce',format='%Y-%m-%d %H:%M')\n",
    "    data['promise_date'] = data.order_estimated_delivery_date >= data.order_delivered_customer_date  # True if product delivered before or at estimated delivery date\n",
    "    data['approval_time'] = data.order_approved_at - data.order_purchase_timestamp  # Time for buyer to approve sale\n",
    "    #data['total_time_to_deliver'] = data.order_delivered_customer_date - data.order_purchase_timestamp  # total time from pruchase to delivery\n",
    "    #data['actual_delivery_time'] = data.order_delivered_customer_date - data.order_delivered_carrier_date  # total time from pruchase to delivery\n",
    "    data['actual_delivery_time'] = (data['order_delivered_customer_date'] - data['order_delivered_carrier_date']).dt.total_seconds()/ (60 * 60)\n",
    "    data['total_delivery_time'] = (data['order_delivered_customer_date'] - data['order_purchase_timestamp']).dt.total_seconds()/ (60 * 60)\n",
    "    data['shipping_limit_date'] = pd.to_datetime(data.shipping_limit_date, errors='coerce', format='%Y-%m-%d %H:%M')\n",
    "    return data\n",
    "\n",
    "df = pd.read_csv('../../data/processed/20th_May_olist.csv' , dtype={'seller_zip_code_prefix': str, 'customer_zip_code_prefix': str})\n",
    "df = time_format(df)\n",
    "\n",
    "df3 = df\n",
    "\n",
    "def previous_review_score(row):\n",
    "    time=row.order_purchase_timestamp\n",
    "    sel_id=row.seller_id\n",
    "    return df3[(df3.seller_id==sel_id)&(df3.order_purchase_timestamp<time)].review_score.mean()\n",
    "\n",
    "df3['review2']=df3.apply(previous_review_score,axis=1)\n",
    "\n",
    "df3['order_delivered_carrier_date']=pd.to_datetime(df3.order_delivered_carrier_date, format='%Y-%m-%d %H:%M')\n",
    "df3.order_purchase_timestamp = pd.to_datetime(df3.order_purchase_timestamp, format='%%Y-%m-%d %H:%M')\n",
    "\n",
    "calculate_time_difference_in_hour(df3, 'order_delivered_carrier_date', 'order_purchase_timestamp', 'actual_lag_time')\n",
    "\n",
    "df3=df3[['zip_2_prefix','rdpc', 'connection_between_states',\n",
    "       'connection_between_cities', 'actual_lag_time','seasons','distance','review2','total_delivery_time']]\n",
    "\n",
    "df3['I_connection_between_cities_and_states']=df3.connection_between_states*df3.connection_between_cities\n",
    "\n",
    "df3.seasons=df3.seasons.map({'dry':0, 'wet':1})\n",
    "df3.dropna(inplace=True)\n",
    "\n"
   ]
  },
  {
   "cell_type": "markdown",
   "metadata": {},
   "source": [
    "## Correlation Matrix"
   ]
  },
  {
   "cell_type": "markdown",
   "metadata": {},
   "source": [
    "The correlation of the features is useful to know if we should exclude any features. Highly correlated independent features are undesiable as it creates redundant features. However highly correlation between independent and dependent variable is desirable. In our case distence and connection between states are highly correlated however we will leave these features in for now but may remove them later. There is a high correlation between connection between cities which is good."
   ]
  },
  {
   "cell_type": "code",
   "execution_count": 32,
   "metadata": {},
   "outputs": [],
   "source": [
    "feat=['rdpc', 'seasons',\n",
    "       'connection_between_cities', 'actual_lag_time']"
   ]
  },
  {
   "cell_type": "code",
   "execution_count": 33,
   "metadata": {},
   "outputs": [
    {
     "data": {
      "image/png": "[encoded data removed]",
      "text/plain": [
       "<Figure size 1008x864 with 2 Axes>"
      ]
     },
     "metadata": {},
     "output_type": "display_data"
    }
   ],
   "source": [
    "colormap = plt.cm.RdBu\n",
    "plt.figure(figsize=(14,12))\n",
    "plt.title('Pearson Correlation of Features', y=1.05, size=15)\n",
    "sns.heatmap(df3[feat].corr(),linewidths=0.1,vmax=1.0, \n",
    "            square=True, cmap=colormap, linecolor='white', annot=True)\n",
    "plt.yticks(rotation = 0)\n",
    "plt.show()"
   ]
  },
  {
   "cell_type": "markdown",
   "metadata": {},
   "source": [
    "## Creating Datasets"
   ]
  },
  {
   "cell_type": "code",
   "execution_count": 34,
   "metadata": {},
   "outputs": [],
   "source": [
    "def create_dataset(df,features):\n",
    "    features=features\n",
    "    target='total_delivery_time'\n",
    "    x=df[features]\n",
    "    y=np.log(df[target])\n",
    "    if 'zip_2_prefix' in features:\n",
    "        x=pd.get_dummies(data=x,columns=['zip_2_prefix'])\n",
    "    return x,y"
   ]
  },
  {
   "cell_type": "code",
   "execution_count": 35,
   "metadata": {},
   "outputs": [],
   "source": [
    "def build_random_forest(x,y,cv):\n",
    "    #Split the dataset into train and test sets\n",
    "    X_train, X_test, y_train, y_test = train_test_split(x, y, test_size=0.25, random_state=42)\n",
    "    feature_name=x.columns\n",
    "    clf = RandomForestRegressor(max_depth=4, random_state=0,n_jobs=-1)\n",
    "    if cv==True:\n",
    "        n_estimators = [100, 300]\n",
    "        max_depth = [5, 8, ]\n",
    "        min_samples_split = [2, 5, 10]\n",
    "        min_samples_leaf = [1, 2, 5] \n",
    "\n",
    "        hyperF = dict(n_estimators = n_estimators, max_depth = max_depth,  \n",
    "                      min_samples_split = min_samples_split, \n",
    "                     min_samples_leaf = min_samples_leaf)\n",
    "\n",
    "        gridF = GridSearchCV(clf, hyperF, cv = 3, verbose = 1, \n",
    "                              n_jobs = -1)\n",
    "        clf = gridF.fit(X_train, y_train)\n",
    "        print(clf.best_params_)\n",
    "        importance=pd.concat([pd.Series(feature_name),pd.Series(clf.best_estimator_.feature_importances_)],axis=1)\n",
    "    else:\n",
    "        clf.fit(X_train, y_train)\n",
    "        importance=pd.concat([pd.Series(feature_name),pd.Series(clf.feature_importances_)],axis=1)\n",
    "    \n",
    "    pred=clf.predict(X_test)\n",
    "    print('Test R2 Score:', r2_score(y_test,pred))\n",
    "          \n",
    "    pred2=clf.predict(X_train)\n",
    "    print('Train R2 Score:', r2_score(y_train,pred2))\n",
    "    \n",
    "    \n",
    "    \n",
    "    importance.columns=['Features','Feature Importance Score']\n",
    "    imp=importance[importance['Feature Importance Score']>0].set_index('Features')\n",
    "    imp=imp.sort_values(by='Feature Importance Score',ascending=False)\n",
    "    print(imp)\n",
    "    \n",
    "    return clf"
   ]
  },
  {
   "cell_type": "code",
   "execution_count": 36,
   "metadata": {},
   "outputs": [],
   "source": [
    "features=['rdpc',\n",
    "       'connection_between_cities', 'actual_lag_time','seasons']"
   ]
  },
  {
   "cell_type": "markdown",
   "metadata": {},
   "source": [
    "**Without cv**"
   ]
  },
  {
   "cell_type": "code",
   "execution_count": 37,
   "metadata": {},
   "outputs": [
    {
     "name": "stdout",
     "output_type": "stream",
     "text": [
      "Test R2 Score: 0.760947070489777\n",
      "Train R2 Score: 0.7540907951351634\n",
      "                           Feature Importance Score\n",
      "Features                                           \n",
      "connection_between_cities                  0.926721\n",
      "actual_lag_time                            0.072908\n",
      "rdpc                                       0.000334\n",
      "seasons                                    0.000036\n"
     ]
    }
   ],
   "source": [
    "x,y=create_dataset(df3,features)\n",
    "clf=build_random_forest(x,y,False)"
   ]
  },
  {
   "cell_type": "markdown",
   "metadata": {},
   "source": [
    "**With cv**"
   ]
  },
  {
   "cell_type": "code",
   "execution_count": 38,
   "metadata": {},
   "outputs": [
    {
     "name": "stdout",
     "output_type": "stream",
     "text": [
      "Fitting 3 folds for each of 36 candidates, totalling 108 fits\n"
     ]
    },
    {
     "name": "stderr",
     "output_type": "stream",
     "text": [
      "[Parallel(n_jobs=-1)]: Using backend LokyBackend with 8 concurrent workers.\n",
      "[Parallel(n_jobs=-1)]: Done  34 tasks      | elapsed:   10.8s\n",
      "[Parallel(n_jobs=-1)]: Done 108 out of 108 | elapsed:   32.2s finished\n"
     ]
    },
    {
     "name": "stdout",
     "output_type": "stream",
     "text": [
      "{'max_depth': 8, 'min_samples_leaf': 5, 'min_samples_split': 2, 'n_estimators': 300}\n",
      "Test R2 Score: 0.7867106059197464\n",
      "Train R2 Score: 0.8131128044439025\n",
      "                           Feature Importance Score\n",
      "Features                                           \n",
      "connection_between_cities                  0.870851\n",
      "actual_lag_time                            0.103750\n",
      "rdpc                                       0.022350\n",
      "seasons                                    0.003049\n"
     ]
    }
   ],
   "source": [
    "x_2,y_2=create_dataset(df3,features)\n",
    "clf2=build_random_forest(x_2,y_2,True)"
   ]
  },
  {
   "cell_type": "code",
   "execution_count": 39,
   "metadata": {},
   "outputs": [
    {
     "data": {
      "text/plain": [
       "{'bootstrap': True,\n",
       " 'ccp_alpha': 0.0,\n",
       " 'criterion': 'mse',\n",
       " 'max_depth': 8,\n",
       " 'max_features': 'auto',\n",
       " 'max_leaf_nodes': None,\n",
       " 'max_samples': None,\n",
       " 'min_impurity_decrease': 0.0,\n",
       " 'min_impurity_split': None,\n",
       " 'min_samples_leaf': 5,\n",
       " 'min_samples_split': 2,\n",
       " 'min_weight_fraction_leaf': 0.0,\n",
       " 'n_estimators': 300,\n",
       " 'n_jobs': -1,\n",
       " 'oob_score': False,\n",
       " 'random_state': 0,\n",
       " 'verbose': 0,\n",
       " 'warm_start': False}"
      ]
     },
     "execution_count": 39,
     "metadata": {},
     "output_type": "execute_result"
    }
   ],
   "source": [
    "clf2.best_estimator_.get_params()"
   ]
  },
  {
   "cell_type": "code",
   "execution_count": null,
   "metadata": {},
   "outputs": [],
   "source": []
  }
 ],
 "metadata": {
  "kernelspec": {
   "display_name": "Python 3",
   "language": "python",
   "name": "python3"
  },
  "language_info": {
   "codemirror_mode": {
    "name": "ipython",
    "version": 3
   },
   "file_extension": ".py",
   "mimetype": "text/x-python",
   "name": "python",
   "nbconvert_exporter": "python",
   "pygments_lexer": "ipython3",
   "version": "3.7.4"
  },
  "toc": {
   "base_numbering": 1,
   "nav_menu": {},
   "number_sections": true,
   "sideBar": true,
   "skip_h1_title": false,
   "title_cell": "Table of Contents",
   "title_sidebar": "Contents",
   "toc_cell": true,
   "toc_position": {},
   "toc_section_display": true,
   "toc_window_display": false
  }
 },
 "nbformat": 4,
 "nbformat_minor": 4
}
